{
  "nbformat": 4,
  "nbformat_minor": 0,
  "metadata": {
    "colab": {
      "provenance": []
    },
    "kernelspec": {
      "name": "python3",
      "display_name": "Python 3"
    },
    "language_info": {
      "name": "python"
    }
  },
  "cells": [
    {
      "cell_type": "code",
      "execution_count": null,
      "metadata": {
        "id": "qX_g1XoNyv4N"
      },
      "outputs": [],
      "source": [
        "\n",
        "import pandas as pd\n",
        "import matplotlib.pyplot as plt\n",
        "from sklearn.preprocessing import LabelEncoder,StandardScaler\n",
        "from sklearn.model_selection import train_test_split\n",
        "from sklearn.feature_extraction.text import CountVectorizer\n",
        "from sklearn.model_selection import StratifiedKFold\n",
        "from sklearn.metrics import accuracy_score,f1_score\n",
        "from sklearn.metrics import mean_squared_error,roc_auc_score,precision_score\n",
        "from sklearn.naive_bayes import GaussianNB\n",
        "from sklearn.linear_model import LogisticRegression\n",
        "from sklearn.tree import DecisionTreeClassifier\n",
        "from sklearn.neighbors import KNeighborsClassifier\n",
        "from sklearn.svm import SVC\n",
        "from sklearn.ensemble import GradientBoostingClassifier,ExtraTreesClassifier\n",
        "from sklearn.ensemble import RandomForestClassifier,AdaBoostClassifier\n",
        "from sklearn.model_selection import RandomizedSearchCV,GridSearchCV\n",
        "pd.options.display.max_columns = 999\n",
        "\n"
      ]
    },
    {
      "cell_type": "code",
      "source": [
        "df = pd.read_csv (r'/content/data.csv')"
      ],
      "metadata": {
        "id": "s0XwApzczncJ"
      },
      "execution_count": null,
      "outputs": []
    },
    {
      "cell_type": "code",
      "source": [
        "import re\n",
        "regex = re.compile(r\"\\[|\\]|<\", re.IGNORECASE)\n",
        "df.columns = [regex.sub(\"_\", col) if any(x in str(col) for x in set(('[', ']', '<'))) else col for col in df.columns.values]"
      ],
      "metadata": {
        "id": "H2SEqqrZzsFc"
      },
      "execution_count": null,
      "outputs": []
    },
    {
      "cell_type": "code",
      "source": [
        "df['extracted_sentence'] = df['extracted_sentence'].fillna('').astype(str)\n",
        "df['Label'] = df['Label'].fillna('').astype(str)\n",
        "df = df[df['extracted_sentence'] != '']\n",
        "df = df[df['Label'] != '']\n",
        "X = df['extracted_sentence']\n",
        "y = df['Label']\n",
        "X_train, X_test, y_train, y_test = train_test_split(X, y, test_size=0.20, stratify=y)"
      ],
      "metadata": {
        "id": "aLCif08XzvSW"
      },
      "execution_count": null,
      "outputs": []
    },
    {
      "cell_type": "code",
      "source": [
        "from sklearn.feature_extraction.text import TfidfVectorizer\n",
        "vectorizer = TfidfVectorizer()\n",
        "X_train_tfidf = vectorizer.fit_transform(X_train)\n",
        "X_test_tfidf = vectorizer.transform(X_test)"
      ],
      "metadata": {
        "id": "gny9QqZs5TlC"
      },
      "execution_count": null,
      "outputs": []
    },
    {
      "cell_type": "code",
      "source": [
        "print(\"Unique labels in the dataset:\", df['Label'].unique())\n",
        "\n",
        "# Split the dataset into features and labels\n",
        "X = df['extracted_sentence']\n",
        "y = df['Label']\n",
        "\n",
        "# Count original dataset labels with the corrected logic\n",
        "print(\"Original dataset - Positive samples:\", (y.str.lower() == 'positive').sum())\n",
        "print(\"Original dataset - Negative samples:\", (y.str.lower() == 'negative').sum())\n",
        "\n",
        "# Split the dataset into training and testing sets\n",
        "X_train, X_test, y_train, y_test = train_test_split(X, y, test_size=0.20, stratify=y)\n",
        "\n",
        "# Check training and testing set sizes\n",
        "print(\"Number of training samples:\", X_train.shape[0])\n",
        "print(\"Number of testing samples:\", X_test.shape[0])\n",
        "\n",
        "# Count training set labels\n",
        "train_positive_count = (y_train.str.lower() == 'positive').sum()\n",
        "train_negative_count = (y_train.str.lower() == 'negative').sum()\n",
        "\n",
        "# Count testing set labels\n",
        "test_positive_count = (y_test.str.lower() == 'positive').sum()\n",
        "test_negative_count = (y_test.str.lower() == 'negative').sum()\n",
        "\n",
        "# Print the counts\n",
        "print(\"Training set - Positive samples:\", train_positive_count)\n",
        "print(\"Training set - Negative samples:\", train_negative_count)\n",
        "print(\"Testing set - Positive samples:\", test_positive_count)\n",
        "print(\"Testing set - Negative samples:\", test_negative_count)"
      ],
      "metadata": {
        "colab": {
          "base_uri": "https://localhost:8080/"
        },
        "id": "h80edjccwxIT",
        "outputId": "ba99ad93-c17b-48ba-fc21-4a3c64ee74bc"
      },
      "execution_count": null,
      "outputs": [
        {
          "output_type": "stream",
          "name": "stdout",
          "text": [
            "Unique labels in the dataset: ['Negative' 'positive']\n",
            "Original dataset - Positive samples: 0\n",
            "Original dataset - Negative samples: 0\n",
            "Number of training samples: 648\n",
            "Number of testing samples: 162\n",
            "Training set - Positive samples: 0\n",
            "Training set - Negative samples: 0\n",
            "Testing set - Positive samples: 0\n",
            "Testing set - Negative samples: 0\n"
          ]
        }
      ]
    },
    {
      "cell_type": "code",
      "source": [
        "# Ensure the number of samples in X_train_tfidf and y_train matches\n",
        "assert X_train_tfidf.shape[0] == y_train.shape[0], \"Mismatch in number of samples between X_train_tfidf and y_train\"\n",
        "\n",
        "# Train a Logistic Regression model\n",
        "logreg = LogisticRegression(solver='lbfgs', max_iter=1000)\n",
        "logreg.fit(X_train_tfidf, y_train)\n",
        "\n",
        "# Predict on the test data\n",
        "y_pred_test = logreg.predict(X_test_tfidf)\n",
        "\n",
        "# Calculate accuracy and F1 score\n",
        "acc = accuracy_score(y_test, y_pred_test)\n",
        "fscore = f1_score(y_test, y_pred_test, average='weighted')  # For multiclass use 'weighted'\n",
        "\n",
        "# Print the results\n",
        "print(\"Accuracy of Logistic Regression: %.2f%%\" % (acc * 100.0))\n",
        "print(\"F1 Score of Logistic Regression: %.2f%%\" % (fscore * 100.0))"
      ],
      "metadata": {
        "colab": {
          "base_uri": "https://localhost:8080/"
        },
        "id": "5tXYXm0k5avV",
        "outputId": "598a3eda-1f20-4a17-f093-e2592b6fcc6f"
      },
      "execution_count": null,
      "outputs": [
        {
          "output_type": "stream",
          "name": "stdout",
          "text": [
            "Accuracy of Logistic Regression: 80.86%\n",
            "F1 Score of Logistic Regression: 73.88%\n"
          ]
        }
      ]
    },
    {
      "cell_type": "code",
      "source": [
        "vectorizer = TfidfVectorizer()\n",
        "X_train_tfidf = vectorizer.fit_transform(X_train)\n",
        "X_test_tfidf = vectorizer.transform(X_test)\n",
        "\n",
        "gnb = GaussianNB()\n",
        "gnb.fit(X_train_tfidf.toarray(), y_train)\n",
        "y_pred_test1 = gnb.predict(X_test_tfidf.toarray())\n",
        "\n",
        "fscore = f1_score(y_test, y_pred_test1, average='weighted')\n",
        "acc = accuracy_score(y_test, y_pred_test1)\n",
        "\n",
        "print(\"Accuracy of GaussianNB: %.2f%%\" % (acc * 100.0))\n",
        "print(\"F1 Score of GaussianNB: %.2f%%\" % (fscore * 100.0))"
      ],
      "metadata": {
        "colab": {
          "base_uri": "https://localhost:8080/"
        },
        "id": "uRZoqaqSz0yN",
        "outputId": "4205d974-c36d-41d6-f74b-344bfdfd2bbc"
      },
      "execution_count": null,
      "outputs": [
        {
          "output_type": "stream",
          "name": "stdout",
          "text": [
            "Accuracy of GaussianNB: 85.19%\n",
            "F1 Score of GaussianNB: 84.19%\n"
          ]
        }
      ]
    },
    {
      "cell_type": "code",
      "source": [
        "vectorizer = TfidfVectorizer()\n",
        "X_train_tfidf = vectorizer.fit_transform(X_train)\n",
        "X_test_tfidf = vectorizer.transform(X_test)\n",
        "\n",
        "clf = KNeighborsClassifier(n_neighbors=3, algorithm='ball_tree')\n",
        "clf.fit(X_train_tfidf.toarray(), y_train)\n",
        "y_pred3 = clf.predict(X_test_tfidf.toarray())\n",
        "acc3 = accuracy_score(y_test, y_pred3)\n",
        "fscore = f1_score(y_test, y_pred3, average='weighted')\n",
        "\n",
        "print(\"Accuracy of KNN: %.2f%%\" % (acc3 * 100.0))\n",
        "print(\"F1 Score of KNN: %.2f%%\" % (fscore * 100.0))"
      ],
      "metadata": {
        "colab": {
          "base_uri": "https://localhost:8080/"
        },
        "id": "bE4C6hnEz2iZ",
        "outputId": "91d0eb6b-92e9-4c0c-d3dd-2f5b6764a88b"
      },
      "execution_count": null,
      "outputs": [
        {
          "output_type": "stream",
          "name": "stdout",
          "text": [
            "Accuracy of KNN: 82.72%\n",
            "F1 Score of KNN: 81.55%\n"
          ]
        }
      ]
    },
    {
      "cell_type": "code",
      "source": [
        "vectorizer = TfidfVectorizer()\n",
        "\n",
        "# Fit and transform the training data, and transform the test data\n",
        "X_train_tfidf = vectorizer.fit_transform(X_train)\n",
        "X_test_tfidf = vectorizer.transform(X_test)\n",
        "\n",
        "# Handle class imbalance using SMOTE\n",
        "smote = SMOTE(random_state=42)\n",
        "X_train_resampled, y_train_resampled = smote.fit_resample(X_train_tfidf, y_train)\n",
        "\n",
        "# Initialize and train the SVM model\n",
        "svc1 = SVC(C=50, kernel='rbf', gamma=1)\n",
        "\n",
        "# Fit the model using the resampled training data\n",
        "svc1.fit(X_train_resampled, y_train_resampled)\n",
        "\n",
        "# Predict on the test data\n",
        "y_pred4 = svc1.predict(X_test_tfidf)\n",
        "\n",
        "# Calculate accuracy and F1 score\n",
        "acc4 = accuracy_score(y_test, y_pred4)\n",
        "fscore = f1_score(y_test, y_pred4, average='weighted')\n",
        "\n",
        "# Print the results\n",
        "print(\"Accuracy of SVM: %.2f%%\" % (acc4 * 100.0))\n",
        "print(\"Fscore of SVM: %.2f%%\" % (fscore * 100.0))"
      ],
      "metadata": {
        "colab": {
          "base_uri": "https://localhost:8080/"
        },
        "id": "YlZXAY2cz5DT",
        "outputId": "cf2d019a-8626-467d-cf69-78c3b0fbf83b"
      },
      "execution_count": null,
      "outputs": [
        {
          "output_type": "stream",
          "name": "stdout",
          "text": [
            "Accuracy of SVM: 86.42%\n",
            "Fscore of SVM: 84.73%\n"
          ]
        }
      ]
    },
    {
      "cell_type": "code",
      "source": [
        "vectorizer = TfidfVectorizer()\n",
        "\n",
        "# Fit and transform the training data, and transform the test data\n",
        "X_train_tfidf = vectorizer.fit_transform(X_train)\n",
        "X_test_tfidf = vectorizer.transform(X_test)\n",
        "\n",
        "# Apply SMOTE to the training data\n",
        "smote = SMOTE(random_state=42)\n",
        "X_train_smote, y_train_smote = smote.fit_resample(X_train_tfidf, y_train)\n",
        "\n",
        "# Initialize and train the Decision Tree model\n",
        "dt = DecisionTreeClassifier(random_state=42)\n",
        "\n",
        "# Fit the model using the SMOTE-processed training data\n",
        "dt.fit(X_train_smote, y_train_smote)\n",
        "\n",
        "# Predict on the test data\n",
        "y_pred67 = dt.predict(X_test_tfidf)\n",
        "\n",
        "# Calculate accuracy and F1 score\n",
        "acc2 = accuracy_score(y_test, y_pred67)\n",
        "fscore = f1_score(y_test, y_pred67, average='weighted')\n",
        "\n",
        "# Print the results\n",
        "print(\"Accuracy of Decision Tree: %.2f%%\" % (acc2 * 100.0))\n",
        "print(\"Fscore of Decision Tree: %.2f%%\" % (fscore * 100.0))"
      ],
      "metadata": {
        "colab": {
          "base_uri": "https://localhost:8080/"
        },
        "id": "3Xek0Axzz8O0",
        "outputId": "2c0a0969-3ca4-40b4-fa8d-d39d29788fca"
      },
      "execution_count": null,
      "outputs": [
        {
          "output_type": "stream",
          "name": "stdout",
          "text": [
            "Accuracy of Decision Tree: 79.01%\n",
            "Fscore of Decision Tree: 79.01%\n"
          ]
        }
      ]
    },
    {
      "cell_type": "code",
      "source": [
        "vectorizer = TfidfVectorizer()\n",
        "\n",
        "# Fit and transform the training data, and transform the test data\n",
        "X_train_tfidf = vectorizer.fit_transform(X_train)\n",
        "X_test_tfidf = vectorizer.transform(X_test)\n",
        "\n",
        "# Apply SMOTE to the training data\n",
        "smote = SMOTE(random_state=42)\n",
        "X_train_smote, y_train_smote = smote.fit_resample(X_train_tfidf, y_train)\n",
        "\n",
        "# Initialize and train the Random Forest model\n",
        "rf = RandomForestClassifier(random_state=42)\n",
        "\n",
        "# Fit the model using the SMOTE-processed training data\n",
        "rf.fit(X_train_smote, y_train_smote)\n",
        "\n",
        "# Predict on the test data\n",
        "y_pred2 = rf.predict(X_test_tfidf)\n",
        "\n",
        "# Calculate accuracy and F1 score\n",
        "acc2 = accuracy_score(y_test, y_pred2)\n",
        "fscore = f1_score(y_test, y_pred2, average='weighted')\n",
        "\n",
        "# Print the results\n",
        "print(\"Accuracy of Random Forest: %.2f%%\" % (acc2 * 100.0))\n",
        "print(\"Fscore of Random Forest: %.2f%%\" % (fscore * 100.0))"
      ],
      "metadata": {
        "colab": {
          "base_uri": "https://localhost:8080/"
        },
        "id": "PiK5xKS5z-X2",
        "outputId": "b98a634b-a249-4e7d-b51d-ff0763f53e6d"
      },
      "execution_count": null,
      "outputs": [
        {
          "output_type": "stream",
          "name": "stdout",
          "text": [
            "Accuracy of Random Forest: 85.80%\n",
            "Fscore of Random Forest: 83.88%\n"
          ]
        }
      ]
    },
    {
      "cell_type": "code",
      "source": [
        "vectorizer = TfidfVectorizer()\n",
        "\n",
        "# Fit and transform the training data, and transform the test data\n",
        "X_train_tfidf = vectorizer.fit_transform(X_train)\n",
        "X_test_tfidf = vectorizer.transform(X_test)\n",
        "\n",
        "# Apply SMOTE to the training data\n",
        "smote = SMOTE(random_state=42)\n",
        "X_train_smote, y_train_smote = smote.fit_resample(X_train_tfidf, y_train)\n",
        "\n",
        "# Extra Trees Classifier\n",
        "et = ExtraTreesClassifier(random_state=42)\n",
        "et.fit(X_train_smote, y_train_smote)\n",
        "y_pred21 = et.predict(X_test_tfidf)\n",
        "\n",
        "fscore_et = f1_score(y_test, y_pred21, average='weighted')\n",
        "acc_et = accuracy_score(y_test, y_pred21)\n",
        "\n",
        "print(\"Accuracy of Extra Trees: %.2f%%\" % (acc_et * 100.0))\n",
        "print(\"Fscore of Extra Trees: %.2f%%\" % (fscore_et * 100.0))\n",
        "\n",
        "# AdaBoost Classifier\n",
        "ab = AdaBoostClassifier(random_state=42)\n",
        "ab.fit(X_train_smote, y_train_smote)\n",
        "y_pred22 = ab.predict(X_test_tfidf)\n",
        "\n",
        "fscore_ab = f1_score(y_test, y_pred22, average='weighted')\n",
        "acc_ab = accuracy_score(y_test, y_pred22)\n",
        "\n",
        "print(\"Accuracy of AdaBoost: %.2f%%\" % (acc_ab * 100.0))\n",
        "print(\"Fscore of AdaBoost: %.2f%%\" % (fscore_ab * 100.0))"
      ],
      "metadata": {
        "colab": {
          "base_uri": "https://localhost:8080/"
        },
        "id": "Xyd994Km0A2h",
        "outputId": "c25ca4e4-52f3-4b64-cda9-8ec7ddead40d"
      },
      "execution_count": null,
      "outputs": [
        {
          "output_type": "stream",
          "name": "stdout",
          "text": [
            "Accuracy of Extra Trees: 88.27%\n",
            "Fscore of Extra Trees: 86.68%\n"
          ]
        },
        {
          "output_type": "stream",
          "name": "stderr",
          "text": [
            "/usr/local/lib/python3.10/dist-packages/sklearn/ensemble/_weight_boosting.py:527: FutureWarning: The SAMME.R algorithm (the default) is deprecated and will be removed in 1.6. Use the SAMME algorithm to circumvent this warning.\n",
            "  warnings.warn(\n"
          ]
        },
        {
          "output_type": "stream",
          "name": "stdout",
          "text": [
            "Accuracy of AdaBoost: 77.78%\n",
            "Fscore of AdaBoost: 78.01%\n"
          ]
        }
      ]
    },
    {
      "cell_type": "code",
      "source": [],
      "metadata": {
        "id": "PC0ql8GVzlGd"
      },
      "execution_count": null,
      "outputs": []
    }
  ]
}